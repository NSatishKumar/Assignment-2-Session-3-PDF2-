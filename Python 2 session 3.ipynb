{
 "cells": [
  {
   "cell_type": "markdown",
   "metadata": {},
   "source": [
    "## 1.1  Write a Python Program to implement your own myreduce() function which works exactly like Python's built-in function reduce()"
   ]
  },
  {
   "cell_type": "code",
   "execution_count": 12,
   "metadata": {},
   "outputs": [
    {
     "name": "stdout",
     "output_type": "stream",
     "text": [
      "Output 24\n"
     ]
    }
   ],
   "source": [
    "def myreduce(fn,sq):                              # defining the myreduce function\n",
    "    result=sq[0]                                  # storing the first element in the result variable\n",
    "    for item in sq[1:]:                           # looping all the input items\n",
    "        result=fn(item,result)                    # calling the function which needs to be applied on input sequence\n",
    "    print(\"Output {}\".format(result))\n",
    "\n",
    "def fn(item,result):                              # Defining the function\n",
    "    return item*result                            # function will do the MULTIPLICATION \n",
    "\n",
    "sq=[1,2,3,4]                                      # input sequence\n",
    "myreduce(fn,sq)                                   # calling the the myreduce function"
   ]
  },
  {
   "cell_type": "markdown",
   "metadata": {},
   "source": [
    "## 1.2 Write a Python program to implement your own myfilter() function which works exactly like Python's built-in function filter() \n",
    " "
   ]
  },
  {
   "cell_type": "code",
   "execution_count": 13,
   "metadata": {},
   "outputs": [
    {
     "name": "stdout",
     "output_type": "stream",
     "text": [
      "Output [3]\n"
     ]
    }
   ],
   "source": [
    "def myfilter(fn,sq):                              # defining the myfilter function\n",
    "    output=[]\n",
    "    for item in sq:                               # looping each item in the input sequence\n",
    "        result=fn(item)                           # Calling the function and passing each item \n",
    "        if(result==True):                         # checking whether the result is TRUE or not\n",
    "            output.append(item)                   # Storing the output value\n",
    "    print(\"Output {}\".format(output))\n",
    "\n",
    "def fn(item):                                     #  Defining the function\n",
    "    if(item%3==0):                                # checking whether the item is divisble by 3 or not\n",
    "        return True\n",
    "\n",
    "sq=[1,2,3,4]                                      # input sequence\n",
    "myfilter(fn,sq)                                   # Calling the myfilter function"
   ]
  },
  {
   "cell_type": "markdown",
   "metadata": {},
   "source": [
    "## Implement List comprehensions to produce the following lists. \n",
    "\n",
    "['A', 'C', 'A', 'D', 'G', 'I', ’L’, ‘ D’] "
   ]
  },
  {
   "cell_type": "code",
   "execution_count": 14,
   "metadata": {
    "scrolled": true
   },
   "outputs": [
    {
     "name": "stdout",
     "output_type": "stream",
     "text": [
      "['A', 'C', 'A', 'D', 'G', 'I', 'L', 'D']\n"
     ]
    }
   ],
   "source": [
    "inp=\"ACADGILD\"\n",
    "listval= [x for x in inp]                  # looping each character in the input string\n",
    "print(listval)"
   ]
  },
  {
   "cell_type": "markdown",
   "metadata": {},
   "source": [
    "## ## ['x', 'xx', 'xxx', 'xxxx', 'y', 'yy', 'yyy', 'yyyy', 'z', 'zz', 'zzz', 'zzzz'] "
   ]
  },
  {
   "cell_type": "code",
   "execution_count": 15,
   "metadata": {},
   "outputs": [
    {
     "name": "stdout",
     "output_type": "stream",
     "text": [
      "['x', 'xx', 'xxx', 'xxxx', 'y', 'yy', 'yyy', 'yyyy', 'z', 'zz', 'zzz', 'zzzz']\n"
     ]
    }
   ],
   "source": [
    "list1 =['x','y','z']\n",
    "list2 =range(1,5)\n",
    "# looping the entrie second 'for' loop, for each item of first 'for' loop and multiplying\n",
    "listcomp2=[a*i for a in list1 for i in list2]   \n",
    "print(listcomp2)"
   ]
  },
  {
   "cell_type": "markdown",
   "metadata": {},
   "source": [
    "##  ['x', 'y', 'z', 'xx', 'yy', 'zz', 'xxx', 'yyy', 'zzz', 'xxxx', 'yyyy', 'zzzz'] "
   ]
  },
  {
   "cell_type": "code",
   "execution_count": 16,
   "metadata": {},
   "outputs": [
    {
     "name": "stdout",
     "output_type": "stream",
     "text": [
      "['x', 'y', 'z', 'xx', 'yy', 'zz', 'xxx', 'yyy', 'zzz', 'xxxx', 'yyyy', 'zzzz']\n"
     ]
    }
   ],
   "source": [
    "list1 =range(1,5)\n",
    "list2 =['x','y','z']\n",
    " # looping the entrie second 'for' loop, for each item of first 'for' loop and multiplying\n",
    "listcomp3=[a*i for a in list1 for i in list2]  \n",
    "print(listcomp3)"
   ]
  },
  {
   "cell_type": "markdown",
   "metadata": {},
   "source": [
    "## [[2], [3], [4], [3], [4], [5], [4], [5], [6]] "
   ]
  },
  {
   "cell_type": "code",
   "execution_count": 17,
   "metadata": {},
   "outputs": [
    {
     "name": "stdout",
     "output_type": "stream",
     "text": [
      "[[2], [3], [4], [3], [4], [5], [4], [5], [6]]\n"
     ]
    }
   ],
   "source": [
    "listval=range(1,4)\n",
    "# looping the entrie second 'for' loop, for each item of first 'for' loop and adding the items in each iteration\n",
    "listcomp4=[[a+i] for a in listval for i in listval]   \n",
    "print(listcomp4)"
   ]
  },
  {
   "cell_type": "markdown",
   "metadata": {},
   "source": [
    "## [[2, 3, 4, 5], [3, 4, 5, 6], [4, 5, 6, 7], [5, 6, 7, 8]] "
   ]
  },
  {
   "cell_type": "code",
   "execution_count": 18,
   "metadata": {},
   "outputs": [
    {
     "name": "stdout",
     "output_type": "stream",
     "text": [
      "[[2, 3, 4, 5], [3, 4, 5, 6], [4, 5, 6, 7], [5, 6, 7, 8]]\n"
     ]
    }
   ],
   "source": [
    "listval=range(1,5)\n",
    "# creating list of lists with length of 4 items\n",
    "listcomp5=[[a+i for a in listval] for i in listval] \n",
    "print(listcomp5)"
   ]
  },
  {
   "cell_type": "markdown",
   "metadata": {},
   "source": [
    "## [(1, 1), (2, 1), (3, 1), (1, 2), (2, 2), (3, 2), (1, 3), (2, 3), (3, 3)] "
   ]
  },
  {
   "cell_type": "code",
   "execution_count": 19,
   "metadata": {},
   "outputs": [
    {
     "name": "stdout",
     "output_type": "stream",
     "text": [
      "[(1, 1), (2, 1), (3, 1), (1, 2), (2, 2), (3, 2), (1, 3), (2, 3), (3, 3)]\n"
     ]
    }
   ],
   "source": [
    "listval=range(1,4)\n",
    "#Creating list of tuples\n",
    "listcomp6=[(i,a) for a in listval for i in listval]\n",
    "print(listcomp6)"
   ]
  },
  {
   "cell_type": "markdown",
   "metadata": {},
   "source": [
    "## 3.  Implement a function longestWord() that takes a list of words and returns the longest one. "
   ]
  },
  {
   "cell_type": "code",
   "execution_count": 11,
   "metadata": {},
   "outputs": [
    {
     "name": "stdout",
     "output_type": "stream",
     "text": [
      "enter the words with comma separatedthe,t,this,why,there,I\n",
      "there is longest word having length 5\n"
     ]
    }
   ],
   "source": [
    "#longest word\n",
    "\n",
    "def longestWord():                                                                    # Defining the longestword function\n",
    "    inputval=input(\"enter the words with comma separated\")                            # Accepting the input \n",
    "    listval=inputval.split(',')                                                       # Spliting the input based on commma\n",
    "    listval.sort(key=len,reverse=True)                                                # Sorting based on length in descending order\n",
    "    print(\"{} is longest word having length {}\".format(listval[0],len(listval[0])))   # Displaying the output\n",
    "\n",
    "longestWord()                                                                         # Calling the function "
   ]
  },
  {
   "cell_type": "code",
   "execution_count": null,
   "metadata": {},
   "outputs": [],
   "source": []
  }
 ],
 "metadata": {
  "kernelspec": {
   "display_name": "Python 3",
   "language": "python",
   "name": "python3"
  },
  "language_info": {
   "codemirror_mode": {
    "name": "ipython",
    "version": 3
   },
   "file_extension": ".py",
   "mimetype": "text/x-python",
   "name": "python",
   "nbconvert_exporter": "python",
   "pygments_lexer": "ipython3",
   "version": "3.7.0"
  }
 },
 "nbformat": 4,
 "nbformat_minor": 2
}
